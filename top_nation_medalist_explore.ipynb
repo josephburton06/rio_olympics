{
 "cells": [
  {
   "cell_type": "code",
   "execution_count": 2,
   "metadata": {},
   "outputs": [],
   "source": [
    "import numpy as np\n",
    "import pandas as pd\n",
    "\n",
    "import nationality_helpers\n",
    "from nationality_helpers import create_top_medalist"
   ]
  },
  {
   "cell_type": "code",
   "execution_count": 3,
   "metadata": {},
   "outputs": [],
   "source": [
    "df = create_top_medalist()"
   ]
  },
  {
   "cell_type": "code",
   "execution_count": 4,
   "metadata": {},
   "outputs": [
    {
     "data": {
      "text/plain": [
       "(1072, 13)"
      ]
     },
     "execution_count": 4,
     "metadata": {},
     "output_type": "execute_result"
    }
   ],
   "source": [
    "df.shape"
   ]
  },
  {
   "cell_type": "markdown",
   "metadata": {},
   "source": [
    "### To do:\n",
    "\n",
    "### Encode nationality, sex, sport.  DOB to datetime.  Split into male/female.  Then split athletics vs not athletics.  Athletics contains all of track.  This is a large range from distance runners to shot put throwers."
   ]
  },
  {
   "cell_type": "code",
   "execution_count": 5,
   "metadata": {},
   "outputs": [
    {
     "data": {
      "text/html": [
       "<div>\n",
       "<style scoped>\n",
       "    .dataframe tbody tr th:only-of-type {\n",
       "        vertical-align: middle;\n",
       "    }\n",
       "\n",
       "    .dataframe tbody tr th {\n",
       "        vertical-align: top;\n",
       "    }\n",
       "\n",
       "    .dataframe thead th {\n",
       "        text-align: right;\n",
       "    }\n",
       "</style>\n",
       "<table border=\"1\" class=\"dataframe\">\n",
       "  <thead>\n",
       "    <tr style=\"text-align: right;\">\n",
       "      <th></th>\n",
       "      <th>id</th>\n",
       "      <th>name</th>\n",
       "      <th>nationality</th>\n",
       "      <th>sex</th>\n",
       "      <th>dob</th>\n",
       "      <th>height</th>\n",
       "      <th>weight</th>\n",
       "      <th>sport</th>\n",
       "      <th>gold</th>\n",
       "      <th>silver</th>\n",
       "      <th>bronze</th>\n",
       "      <th>medal_or_nm</th>\n",
       "      <th>country_count</th>\n",
       "    </tr>\n",
       "  </thead>\n",
       "  <tbody>\n",
       "    <tr>\n",
       "      <th>0</th>\n",
       "      <td>435962603</td>\n",
       "      <td>Aaron Brown</td>\n",
       "      <td>CAN</td>\n",
       "      <td>male</td>\n",
       "      <td>5/27/92</td>\n",
       "      <td>1.98</td>\n",
       "      <td>79.0</td>\n",
       "      <td>athletics</td>\n",
       "      <td>0</td>\n",
       "      <td>0</td>\n",
       "      <td>1</td>\n",
       "      <td>1</td>\n",
       "      <td>69</td>\n",
       "    </tr>\n",
       "    <tr>\n",
       "      <th>1</th>\n",
       "      <td>769580282</td>\n",
       "      <td>Akeem Haynes</td>\n",
       "      <td>CAN</td>\n",
       "      <td>male</td>\n",
       "      <td>3/11/92</td>\n",
       "      <td>1.68</td>\n",
       "      <td>71.0</td>\n",
       "      <td>athletics</td>\n",
       "      <td>0</td>\n",
       "      <td>0</td>\n",
       "      <td>1</td>\n",
       "      <td>1</td>\n",
       "      <td>69</td>\n",
       "    </tr>\n",
       "    <tr>\n",
       "      <th>2</th>\n",
       "      <td>373002185</td>\n",
       "      <td>Allison Beveridge</td>\n",
       "      <td>CAN</td>\n",
       "      <td>female</td>\n",
       "      <td>6/1/93</td>\n",
       "      <td>1.69</td>\n",
       "      <td>62.0</td>\n",
       "      <td>cycling</td>\n",
       "      <td>0</td>\n",
       "      <td>0</td>\n",
       "      <td>1</td>\n",
       "      <td>1</td>\n",
       "      <td>69</td>\n",
       "    </tr>\n",
       "    <tr>\n",
       "      <th>3</th>\n",
       "      <td>686662012</td>\n",
       "      <td>Allysha Chapman</td>\n",
       "      <td>CAN</td>\n",
       "      <td>female</td>\n",
       "      <td>1/25/89</td>\n",
       "      <td>1.60</td>\n",
       "      <td>58.0</td>\n",
       "      <td>football</td>\n",
       "      <td>0</td>\n",
       "      <td>0</td>\n",
       "      <td>1</td>\n",
       "      <td>1</td>\n",
       "      <td>69</td>\n",
       "    </tr>\n",
       "    <tr>\n",
       "      <th>4</th>\n",
       "      <td>857846421</td>\n",
       "      <td>Andre de Grasse</td>\n",
       "      <td>CAN</td>\n",
       "      <td>male</td>\n",
       "      <td>11/10/94</td>\n",
       "      <td>1.76</td>\n",
       "      <td>70.0</td>\n",
       "      <td>athletics</td>\n",
       "      <td>0</td>\n",
       "      <td>1</td>\n",
       "      <td>2</td>\n",
       "      <td>3</td>\n",
       "      <td>69</td>\n",
       "    </tr>\n",
       "  </tbody>\n",
       "</table>\n",
       "</div>"
      ],
      "text/plain": [
       "          id               name nationality     sex       dob  height  weight  \\\n",
       "0  435962603        Aaron Brown         CAN    male   5/27/92    1.98    79.0   \n",
       "1  769580282       Akeem Haynes         CAN    male   3/11/92    1.68    71.0   \n",
       "2  373002185  Allison Beveridge         CAN  female    6/1/93    1.69    62.0   \n",
       "3  686662012    Allysha Chapman         CAN  female   1/25/89    1.60    58.0   \n",
       "4  857846421    Andre de Grasse         CAN    male  11/10/94    1.76    70.0   \n",
       "\n",
       "       sport  gold  silver  bronze  medal_or_nm  country_count  \n",
       "0  athletics     0       0       1            1             69  \n",
       "1  athletics     0       0       1            1             69  \n",
       "2    cycling     0       0       1            1             69  \n",
       "3   football     0       0       1            1             69  \n",
       "4  athletics     0       1       2            3             69  "
      ]
     },
     "execution_count": 5,
     "metadata": {},
     "output_type": "execute_result"
    }
   ],
   "source": [
    "df.head()"
   ]
  },
  {
   "cell_type": "code",
   "execution_count": 6,
   "metadata": {},
   "outputs": [
    {
     "data": {
      "text/plain": [
       "id                 int64\n",
       "name              object\n",
       "nationality       object\n",
       "sex               object\n",
       "dob               object\n",
       "height           float64\n",
       "weight           float64\n",
       "sport             object\n",
       "gold               int64\n",
       "silver             int64\n",
       "bronze             int64\n",
       "medal_or_nm        int64\n",
       "country_count      int64\n",
       "dtype: object"
      ]
     },
     "execution_count": 6,
     "metadata": {},
     "output_type": "execute_result"
    }
   ],
   "source": [
    "df.dtypes"
   ]
  },
  {
   "cell_type": "code",
   "execution_count": 7,
   "metadata": {},
   "outputs": [
    {
     "data": {
      "text/plain": [
       "sport\n",
       "aquatics             221\n",
       "archery               11\n",
       "athletics             83\n",
       "badminton              8\n",
       "basketball            48\n",
       "canoe                 27\n",
       "cycling               46\n",
       "equestrian            39\n",
       "fencing               40\n",
       "football              54\n",
       "golf                   3\n",
       "gymnastics            50\n",
       "handball              60\n",
       "hockey                49\n",
       "judo                  28\n",
       "modern pentathlon      3\n",
       "rowing                79\n",
       "rugby sevens          36\n",
       "sailing               20\n",
       "shooting              28\n",
       "table tennis          18\n",
       "taekwondo              9\n",
       "tennis                 9\n",
       "triathlon              4\n",
       "volleyball            65\n",
       "weightlifting          9\n",
       "wrestling             25\n",
       "Name: country_count, dtype: int64"
      ]
     },
     "execution_count": 7,
     "metadata": {},
     "output_type": "execute_result"
    }
   ],
   "source": [
    "df.groupby('sport')['country_count'].agg('count')"
   ]
  },
  {
   "cell_type": "code",
   "execution_count": 9,
   "metadata": {},
   "outputs": [
    {
     "data": {
      "text/html": [
       "<div>\n",
       "<style scoped>\n",
       "    .dataframe tbody tr th:only-of-type {\n",
       "        vertical-align: middle;\n",
       "    }\n",
       "\n",
       "    .dataframe tbody tr th {\n",
       "        vertical-align: top;\n",
       "    }\n",
       "\n",
       "    .dataframe thead th {\n",
       "        text-align: right;\n",
       "    }\n",
       "</style>\n",
       "<table border=\"1\" class=\"dataframe\">\n",
       "  <thead>\n",
       "    <tr style=\"text-align: right;\">\n",
       "      <th></th>\n",
       "      <th>id</th>\n",
       "      <th>height</th>\n",
       "      <th>weight</th>\n",
       "      <th>gold</th>\n",
       "      <th>silver</th>\n",
       "      <th>bronze</th>\n",
       "      <th>medal_or_nm</th>\n",
       "      <th>country_count</th>\n",
       "    </tr>\n",
       "  </thead>\n",
       "  <tbody>\n",
       "    <tr>\n",
       "      <th>count</th>\n",
       "      <td>1.072000e+03</td>\n",
       "      <td>1072.000000</td>\n",
       "      <td>1072.000000</td>\n",
       "      <td>1072.000000</td>\n",
       "      <td>1072.000000</td>\n",
       "      <td>1072.000000</td>\n",
       "      <td>1072.000000</td>\n",
       "      <td>1072.000000</td>\n",
       "    </tr>\n",
       "    <tr>\n",
       "      <th>mean</th>\n",
       "      <td>4.974190e+08</td>\n",
       "      <td>1.788759</td>\n",
       "      <td>73.985075</td>\n",
       "      <td>0.400187</td>\n",
       "      <td>0.347948</td>\n",
       "      <td>0.375000</td>\n",
       "      <td>1.123134</td>\n",
       "      <td>134.834888</td>\n",
       "    </tr>\n",
       "    <tr>\n",
       "      <th>std</th>\n",
       "      <td>2.860416e+08</td>\n",
       "      <td>0.120626</td>\n",
       "      <td>15.734366</td>\n",
       "      <td>0.579223</td>\n",
       "      <td>0.508761</td>\n",
       "      <td>0.503257</td>\n",
       "      <td>0.446740</td>\n",
       "      <td>67.629129</td>\n",
       "    </tr>\n",
       "    <tr>\n",
       "      <th>min</th>\n",
       "      <td>2.938886e+06</td>\n",
       "      <td>1.400000</td>\n",
       "      <td>33.000000</td>\n",
       "      <td>0.000000</td>\n",
       "      <td>0.000000</td>\n",
       "      <td>0.000000</td>\n",
       "      <td>1.000000</td>\n",
       "      <td>53.000000</td>\n",
       "    </tr>\n",
       "    <tr>\n",
       "      <th>25%</th>\n",
       "      <td>2.510752e+08</td>\n",
       "      <td>1.700000</td>\n",
       "      <td>63.000000</td>\n",
       "      <td>0.000000</td>\n",
       "      <td>0.000000</td>\n",
       "      <td>0.000000</td>\n",
       "      <td>1.000000</td>\n",
       "      <td>82.000000</td>\n",
       "    </tr>\n",
       "    <tr>\n",
       "      <th>50%</th>\n",
       "      <td>4.973888e+08</td>\n",
       "      <td>1.780000</td>\n",
       "      <td>72.000000</td>\n",
       "      <td>0.000000</td>\n",
       "      <td>0.000000</td>\n",
       "      <td>0.000000</td>\n",
       "      <td>1.000000</td>\n",
       "      <td>109.000000</td>\n",
       "    </tr>\n",
       "    <tr>\n",
       "      <th>75%</th>\n",
       "      <td>7.460005e+08</td>\n",
       "      <td>1.880000</td>\n",
       "      <td>83.000000</td>\n",
       "      <td>1.000000</td>\n",
       "      <td>1.000000</td>\n",
       "      <td>1.000000</td>\n",
       "      <td>1.000000</td>\n",
       "      <td>159.000000</td>\n",
       "    </tr>\n",
       "    <tr>\n",
       "      <th>max</th>\n",
       "      <td>9.993741e+08</td>\n",
       "      <td>2.210000</td>\n",
       "      <td>143.000000</td>\n",
       "      <td>5.000000</td>\n",
       "      <td>2.000000</td>\n",
       "      <td>2.000000</td>\n",
       "      <td>6.000000</td>\n",
       "      <td>258.000000</td>\n",
       "    </tr>\n",
       "  </tbody>\n",
       "</table>\n",
       "</div>"
      ],
      "text/plain": [
       "                 id       height       weight         gold       silver  \\\n",
       "count  1.072000e+03  1072.000000  1072.000000  1072.000000  1072.000000   \n",
       "mean   4.974190e+08     1.788759    73.985075     0.400187     0.347948   \n",
       "std    2.860416e+08     0.120626    15.734366     0.579223     0.508761   \n",
       "min    2.938886e+06     1.400000    33.000000     0.000000     0.000000   \n",
       "25%    2.510752e+08     1.700000    63.000000     0.000000     0.000000   \n",
       "50%    4.973888e+08     1.780000    72.000000     0.000000     0.000000   \n",
       "75%    7.460005e+08     1.880000    83.000000     1.000000     1.000000   \n",
       "max    9.993741e+08     2.210000   143.000000     5.000000     2.000000   \n",
       "\n",
       "            bronze  medal_or_nm  country_count  \n",
       "count  1072.000000  1072.000000    1072.000000  \n",
       "mean      0.375000     1.123134     134.834888  \n",
       "std       0.503257     0.446740      67.629129  \n",
       "min       0.000000     1.000000      53.000000  \n",
       "25%       0.000000     1.000000      82.000000  \n",
       "50%       0.000000     1.000000     109.000000  \n",
       "75%       1.000000     1.000000     159.000000  \n",
       "max       2.000000     6.000000     258.000000  "
      ]
     },
     "execution_count": 9,
     "metadata": {},
     "output_type": "execute_result"
    }
   ],
   "source": [
    "df.describe()"
   ]
  },
  {
   "cell_type": "markdown",
   "metadata": {},
   "source": [
    "### Checking for data integrity issues.  Height and weight seem feasible."
   ]
  },
  {
   "cell_type": "code",
   "execution_count": null,
   "metadata": {},
   "outputs": [],
   "source": []
  },
  {
   "cell_type": "code",
   "execution_count": null,
   "metadata": {},
   "outputs": [],
   "source": []
  },
  {
   "cell_type": "code",
   "execution_count": null,
   "metadata": {},
   "outputs": [],
   "source": []
  },
  {
   "cell_type": "code",
   "execution_count": null,
   "metadata": {},
   "outputs": [],
   "source": []
  },
  {
   "cell_type": "code",
   "execution_count": null,
   "metadata": {},
   "outputs": [],
   "source": []
  },
  {
   "cell_type": "code",
   "execution_count": null,
   "metadata": {},
   "outputs": [],
   "source": []
  },
  {
   "cell_type": "code",
   "execution_count": null,
   "metadata": {},
   "outputs": [],
   "source": []
  },
  {
   "cell_type": "code",
   "execution_count": null,
   "metadata": {},
   "outputs": [],
   "source": []
  },
  {
   "cell_type": "code",
   "execution_count": null,
   "metadata": {},
   "outputs": [],
   "source": []
  },
  {
   "cell_type": "code",
   "execution_count": null,
   "metadata": {},
   "outputs": [],
   "source": []
  },
  {
   "cell_type": "code",
   "execution_count": null,
   "metadata": {},
   "outputs": [],
   "source": []
  },
  {
   "cell_type": "code",
   "execution_count": null,
   "metadata": {},
   "outputs": [],
   "source": []
  },
  {
   "cell_type": "code",
   "execution_count": null,
   "metadata": {},
   "outputs": [],
   "source": []
  },
  {
   "cell_type": "code",
   "execution_count": null,
   "metadata": {},
   "outputs": [],
   "source": []
  },
  {
   "cell_type": "code",
   "execution_count": null,
   "metadata": {},
   "outputs": [],
   "source": []
  },
  {
   "cell_type": "code",
   "execution_count": null,
   "metadata": {},
   "outputs": [],
   "source": []
  },
  {
   "cell_type": "code",
   "execution_count": null,
   "metadata": {},
   "outputs": [],
   "source": []
  }
 ],
 "metadata": {
  "kernelspec": {
   "display_name": "Python 3",
   "language": "python",
   "name": "python3"
  },
  "language_info": {
   "codemirror_mode": {
    "name": "ipython",
    "version": 3
   },
   "file_extension": ".py",
   "mimetype": "text/x-python",
   "name": "python",
   "nbconvert_exporter": "python",
   "pygments_lexer": "ipython3",
   "version": "3.7.1"
  }
 },
 "nbformat": 4,
 "nbformat_minor": 2
}
