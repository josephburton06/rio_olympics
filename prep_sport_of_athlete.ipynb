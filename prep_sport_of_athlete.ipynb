{
 "cells": [
  {
   "cell_type": "code",
   "execution_count": 1,
   "metadata": {},
   "outputs": [],
   "source": [
    "import warnings\n",
    "warnings.filterwarnings(\"ignore\")\n",
    "\n",
    "import numpy as np\n",
    "import pandas as pd\n",
    "\n",
    "import sport_helpers\n",
    "from sport_helpers import create_top_sport\n",
    "from sport_helpers import create_enc\n",
    "\n",
    "from sklearn.model_selection import train_test_split\n",
    "from sklearn.linear_model import LogisticRegression\n",
    "from sklearn.tree import DecisionTreeClassifier\n",
    "from sklearn.metrics import classification_report\n",
    "from sklearn.metrics import confusion_matrix\n",
    "from sklearn import preprocessing\n",
    "from sklearn.preprocessing import LabelEncoder\n",
    "from sklearn import tree\n",
    "\n",
    "import seaborn as sns\n",
    "\n",
    "import matplotlib.pyplot as plt\n",
    "%matplotlib inline"
   ]
  },
  {
   "cell_type": "code",
   "execution_count": 4,
   "metadata": {},
   "outputs": [],
   "source": [
    "df = create_top_sport()"
   ]
  },
  {
   "cell_type": "code",
   "execution_count": 5,
   "metadata": {},
   "outputs": [
    {
     "data": {
      "text/html": [
       "<div>\n",
       "<style scoped>\n",
       "    .dataframe tbody tr th:only-of-type {\n",
       "        vertical-align: middle;\n",
       "    }\n",
       "\n",
       "    .dataframe tbody tr th {\n",
       "        vertical-align: top;\n",
       "    }\n",
       "\n",
       "    .dataframe thead th {\n",
       "        text-align: right;\n",
       "    }\n",
       "</style>\n",
       "<table border=\"1\" class=\"dataframe\">\n",
       "  <thead>\n",
       "    <tr style=\"text-align: right;\">\n",
       "      <th></th>\n",
       "      <th>id</th>\n",
       "      <th>name</th>\n",
       "      <th>nationality</th>\n",
       "      <th>sex</th>\n",
       "      <th>dob</th>\n",
       "      <th>height</th>\n",
       "      <th>weight</th>\n",
       "      <th>sport</th>\n",
       "      <th>gold</th>\n",
       "      <th>silver</th>\n",
       "      <th>bronze</th>\n",
       "      <th>age</th>\n",
       "    </tr>\n",
       "  </thead>\n",
       "  <tbody>\n",
       "    <tr>\n",
       "      <th>0</th>\n",
       "      <td>736041664</td>\n",
       "      <td>A Jesus Garcia</td>\n",
       "      <td>ESP</td>\n",
       "      <td>male</td>\n",
       "      <td>1969-10-17</td>\n",
       "      <td>1.72</td>\n",
       "      <td>64.0</td>\n",
       "      <td>athletics</td>\n",
       "      <td>0</td>\n",
       "      <td>0</td>\n",
       "      <td>0</td>\n",
       "      <td>47</td>\n",
       "    </tr>\n",
       "    <tr>\n",
       "      <th>1</th>\n",
       "      <td>532037425</td>\n",
       "      <td>A Lam Shin</td>\n",
       "      <td>KOR</td>\n",
       "      <td>female</td>\n",
       "      <td>1986-09-23</td>\n",
       "      <td>1.68</td>\n",
       "      <td>56.0</td>\n",
       "      <td>fencing</td>\n",
       "      <td>0</td>\n",
       "      <td>0</td>\n",
       "      <td>0</td>\n",
       "      <td>30</td>\n",
       "    </tr>\n",
       "    <tr>\n",
       "      <th>2</th>\n",
       "      <td>435962603</td>\n",
       "      <td>Aaron Brown</td>\n",
       "      <td>CAN</td>\n",
       "      <td>male</td>\n",
       "      <td>1992-05-27</td>\n",
       "      <td>1.98</td>\n",
       "      <td>79.0</td>\n",
       "      <td>athletics</td>\n",
       "      <td>0</td>\n",
       "      <td>0</td>\n",
       "      <td>1</td>\n",
       "      <td>24</td>\n",
       "    </tr>\n",
       "    <tr>\n",
       "      <th>3</th>\n",
       "      <td>521041435</td>\n",
       "      <td>Aaron Cook</td>\n",
       "      <td>MDA</td>\n",
       "      <td>male</td>\n",
       "      <td>1991-01-02</td>\n",
       "      <td>1.83</td>\n",
       "      <td>80.0</td>\n",
       "      <td>taekwondo</td>\n",
       "      <td>0</td>\n",
       "      <td>0</td>\n",
       "      <td>0</td>\n",
       "      <td>25</td>\n",
       "    </tr>\n",
       "    <tr>\n",
       "      <th>4</th>\n",
       "      <td>33922579</td>\n",
       "      <td>Aaron Gate</td>\n",
       "      <td>NZL</td>\n",
       "      <td>male</td>\n",
       "      <td>1990-11-26</td>\n",
       "      <td>1.81</td>\n",
       "      <td>71.0</td>\n",
       "      <td>cycling</td>\n",
       "      <td>0</td>\n",
       "      <td>0</td>\n",
       "      <td>0</td>\n",
       "      <td>26</td>\n",
       "    </tr>\n",
       "  </tbody>\n",
       "</table>\n",
       "</div>"
      ],
      "text/plain": [
       "          id            name nationality     sex        dob  height  weight  \\\n",
       "0  736041664  A Jesus Garcia         ESP    male 1969-10-17    1.72    64.0   \n",
       "1  532037425      A Lam Shin         KOR  female 1986-09-23    1.68    56.0   \n",
       "2  435962603     Aaron Brown         CAN    male 1992-05-27    1.98    79.0   \n",
       "3  521041435      Aaron Cook         MDA    male 1991-01-02    1.83    80.0   \n",
       "4   33922579      Aaron Gate         NZL    male 1990-11-26    1.81    71.0   \n",
       "\n",
       "       sport  gold  silver  bronze  age  \n",
       "0  athletics     0       0       0   47  \n",
       "1    fencing     0       0       0   30  \n",
       "2  athletics     0       0       1   24  \n",
       "3  taekwondo     0       0       0   25  \n",
       "4    cycling     0       0       0   26  "
      ]
     },
     "execution_count": 5,
     "metadata": {},
     "output_type": "execute_result"
    }
   ],
   "source": [
    "df.head()"
   ]
  },
  {
   "cell_type": "code",
   "execution_count": 7,
   "metadata": {},
   "outputs": [
    {
     "data": {
      "text/plain": [
       "(10858, 12)"
      ]
     },
     "execution_count": 7,
     "metadata": {},
     "output_type": "execute_result"
    }
   ],
   "source": [
    "df.shape"
   ]
  },
  {
   "cell_type": "code",
   "execution_count": 10,
   "metadata": {},
   "outputs": [
    {
     "data": {
      "text/plain": [
       "sport\n",
       "aquatics             1396\n",
       "archery               126\n",
       "athletics            2187\n",
       "badminton             164\n",
       "basketball            284\n",
       "canoe                 327\n",
       "cycling               502\n",
       "equestrian            215\n",
       "fencing               245\n",
       "football              583\n",
       "golf                  115\n",
       "gymnastics            319\n",
       "handball              349\n",
       "hockey                432\n",
       "judo                  377\n",
       "modern pentathlon      72\n",
       "rowing                535\n",
       "rugby sevens          296\n",
       "sailing               372\n",
       "shooting              380\n",
       "table tennis          168\n",
       "taekwondo             125\n",
       "tennis                191\n",
       "triathlon             109\n",
       "volleyball            382\n",
       "weightlifting         258\n",
       "wrestling             349\n",
       "Name: id, dtype: int64"
      ]
     },
     "execution_count": 10,
     "metadata": {},
     "output_type": "execute_result"
    }
   ],
   "source": [
    "df.groupby('sport')['id'].count()"
   ]
  },
  {
   "cell_type": "code",
   "execution_count": 9,
   "metadata": {},
   "outputs": [
    {
     "data": {
      "text/plain": [
       "27"
      ]
     },
     "execution_count": 9,
     "metadata": {},
     "output_type": "execute_result"
    }
   ],
   "source": [
    "df.sport.nunique()"
   ]
  },
  {
   "cell_type": "markdown",
   "metadata": {},
   "source": [
    "### We have 27 different sports listed.  All but one sport have more than 100 athletes.  "
   ]
  },
  {
   "cell_type": "markdown",
   "metadata": {},
   "source": [
    "### Let's look a few thoughts/hypothesis:\n",
    "\n",
    "### H1: The mean height and weight for basketball players will be greater than gymnastics or equestrian.\n",
    "\n",
    "### H2: The mean age for gymnastics will be much lower than overall mean.\n",
    "\n",
    "### H3: Archery, sailing, or golf may have the highest average age."
   ]
  },
  {
   "cell_type": "code",
   "execution_count": 21,
   "metadata": {},
   "outputs": [
    {
     "data": {
      "text/plain": [
       "sport\n",
       "gymnastics           1.638119\n",
       "weightlifting        1.666628\n",
       "table tennis         1.721845\n",
       "wrestling            1.722951\n",
       "shooting             1.728921\n",
       "triathlon            1.732110\n",
       "hockey               1.733981\n",
       "judo                 1.734085\n",
       "archery              1.735952\n",
       "badminton            1.745610\n",
       "golf                 1.745739\n",
       "football             1.746003\n",
       "cycling              1.747151\n",
       "equestrian           1.749349\n",
       "athletics            1.752039\n",
       "rugby sevens         1.755270\n",
       "sailing              1.761478\n",
       "modern pentathlon    1.762361\n",
       "fencing              1.772449\n",
       "canoe                1.781101\n",
       "aquatics             1.788338\n",
       "taekwondo            1.797200\n",
       "tennis               1.802251\n",
       "handball             1.840401\n",
       "rowing               1.849477\n",
       "volleyball           1.896702\n",
       "basketball           1.919120\n",
       "Name: height, dtype: float64"
      ]
     },
     "execution_count": 21,
     "metadata": {},
     "output_type": "execute_result"
    }
   ],
   "source": [
    "df.groupby('sport')['height'].mean().sort_values()"
   ]
  },
  {
   "cell_type": "code",
   "execution_count": 22,
   "metadata": {},
   "outputs": [
    {
     "data": {
      "text/plain": [
       "sport\n",
       "gymnastics           54.278997\n",
       "triathlon            60.633028\n",
       "table tennis         65.065476\n",
       "modern pentathlon    65.958333\n",
       "equestrian           67.493023\n",
       "athletics            67.717421\n",
       "cycling              67.820717\n",
       "taekwondo            68.088000\n",
       "football             68.433962\n",
       "badminton            68.774390\n",
       "hockey               68.900463\n",
       "fencing              70.661224\n",
       "sailing              71.169355\n",
       "golf                 71.443478\n",
       "archery              72.190476\n",
       "aquatics             72.277221\n",
       "tennis               73.162304\n",
       "shooting             73.905263\n",
       "judo                 76.960212\n",
       "canoe                77.015291\n",
       "wrestling            77.742120\n",
       "rugby sevens         78.756757\n",
       "rowing               79.938318\n",
       "weightlifting        79.980620\n",
       "volleyball           80.102094\n",
       "handball             83.710602\n",
       "basketball           87.750000\n",
       "Name: weight, dtype: float64"
      ]
     },
     "execution_count": 22,
     "metadata": {},
     "output_type": "execute_result"
    }
   ],
   "source": [
    "df.groupby('sport')['weight'].mean().sort_values()"
   ]
  },
  {
   "cell_type": "code",
   "execution_count": 23,
   "metadata": {},
   "outputs": [
    {
     "data": {
      "text/plain": [
       "sport\n",
       "equestrian           20.990698\n",
       "gymnastics           22.517241\n",
       "aquatics             23.906160\n",
       "football             23.943396\n",
       "taekwondo            24.584000\n",
       "weightlifting        25.201550\n",
       "modern pentathlon    25.930556\n",
       "archery              25.984127\n",
       "shooting             26.036842\n",
       "rugby sevens         26.398649\n",
       "hockey               26.506944\n",
       "judo                 26.543767\n",
       "athletics            26.896662\n",
       "canoe                26.941896\n",
       "wrestling            26.957020\n",
       "table tennis         27.065476\n",
       "rowing               27.091589\n",
       "cycling              27.260956\n",
       "badminton            27.317073\n",
       "sailing              27.709677\n",
       "volleyball           27.842932\n",
       "fencing              27.881633\n",
       "basketball           28.031690\n",
       "triathlon            28.055046\n",
       "handball             28.246418\n",
       "tennis               28.335079\n",
       "golf                 30.052174\n",
       "Name: age, dtype: float64"
      ]
     },
     "execution_count": 23,
     "metadata": {},
     "output_type": "execute_result"
    }
   ],
   "source": [
    "df.groupby('sport')['age'].mean().sort_values()"
   ]
  },
  {
   "cell_type": "markdown",
   "metadata": {},
   "source": [
    "### Pretty good on the thoughts.  Gymna"
   ]
  }
 ],
 "metadata": {
  "kernelspec": {
   "display_name": "Python 3",
   "language": "python",
   "name": "python3"
  },
  "language_info": {
   "codemirror_mode": {
    "name": "ipython",
    "version": 3
   },
   "file_extension": ".py",
   "mimetype": "text/x-python",
   "name": "python",
   "nbconvert_exporter": "python",
   "pygments_lexer": "ipython3",
   "version": "3.7.1"
  }
 },
 "nbformat": 4,
 "nbformat_minor": 2
}
